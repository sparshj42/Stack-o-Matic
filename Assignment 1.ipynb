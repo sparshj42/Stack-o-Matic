{
 "cells": [
  {
   "cell_type": "markdown",
   "id": "74f6b7a4-3334-4ce7-ab73-59556c04b3c4",
   "metadata": {},
   "source": [
    "**Part 1**\n",
    "\n",
    "- Loading California housing dataset, summarising, transforming, filtering and then exporting the data."
   ]
  },
  {
   "cell_type": "code",
   "execution_count": 1,
   "id": "1db3b11a-dde9-4edd-a20c-cdd3b69fea22",
   "metadata": {},
   "outputs": [],
   "source": [
    "import numpy as np\n",
    "import pandas as pd"
   ]
  },
  {
   "cell_type": "code",
   "execution_count": 2,
   "id": "c1fb8be3-6beb-45ac-bb35-9a8a7838404c",
   "metadata": {},
   "outputs": [],
   "source": [
    "df = pd.read_csv('california_housing_train.csv')"
   ]
  },
  {
   "cell_type": "code",
   "execution_count": 3,
   "id": "2346b575-a963-4607-a062-eca2b43ea3fc",
   "metadata": {},
   "outputs": [
    {
     "data": {
      "text/html": [
       "<div>\n",
       "<style scoped>\n",
       "    .dataframe tbody tr th:only-of-type {\n",
       "        vertical-align: middle;\n",
       "    }\n",
       "\n",
       "    .dataframe tbody tr th {\n",
       "        vertical-align: top;\n",
       "    }\n",
       "\n",
       "    .dataframe thead th {\n",
       "        text-align: right;\n",
       "    }\n",
       "</style>\n",
       "<table border=\"1\" class=\"dataframe\">\n",
       "  <thead>\n",
       "    <tr style=\"text-align: right;\">\n",
       "      <th></th>\n",
       "      <th>longitude</th>\n",
       "      <th>latitude</th>\n",
       "      <th>housing_median_age</th>\n",
       "      <th>total_rooms</th>\n",
       "      <th>total_bedrooms</th>\n",
       "      <th>population</th>\n",
       "      <th>households</th>\n",
       "      <th>median_income</th>\n",
       "      <th>median_house_value</th>\n",
       "    </tr>\n",
       "  </thead>\n",
       "  <tbody>\n",
       "    <tr>\n",
       "      <th>0</th>\n",
       "      <td>-114.31</td>\n",
       "      <td>34.19</td>\n",
       "      <td>15.0</td>\n",
       "      <td>5612.0</td>\n",
       "      <td>1283.0</td>\n",
       "      <td>1015.0</td>\n",
       "      <td>472.0</td>\n",
       "      <td>1.4936</td>\n",
       "      <td>66900.0</td>\n",
       "    </tr>\n",
       "    <tr>\n",
       "      <th>1</th>\n",
       "      <td>-114.47</td>\n",
       "      <td>34.40</td>\n",
       "      <td>19.0</td>\n",
       "      <td>7650.0</td>\n",
       "      <td>1901.0</td>\n",
       "      <td>1129.0</td>\n",
       "      <td>463.0</td>\n",
       "      <td>1.8200</td>\n",
       "      <td>80100.0</td>\n",
       "    </tr>\n",
       "    <tr>\n",
       "      <th>2</th>\n",
       "      <td>-114.56</td>\n",
       "      <td>33.69</td>\n",
       "      <td>17.0</td>\n",
       "      <td>720.0</td>\n",
       "      <td>174.0</td>\n",
       "      <td>333.0</td>\n",
       "      <td>117.0</td>\n",
       "      <td>1.6509</td>\n",
       "      <td>85700.0</td>\n",
       "    </tr>\n",
       "    <tr>\n",
       "      <th>3</th>\n",
       "      <td>-114.57</td>\n",
       "      <td>33.64</td>\n",
       "      <td>14.0</td>\n",
       "      <td>1501.0</td>\n",
       "      <td>337.0</td>\n",
       "      <td>515.0</td>\n",
       "      <td>226.0</td>\n",
       "      <td>3.1917</td>\n",
       "      <td>73400.0</td>\n",
       "    </tr>\n",
       "    <tr>\n",
       "      <th>4</th>\n",
       "      <td>-114.57</td>\n",
       "      <td>33.57</td>\n",
       "      <td>20.0</td>\n",
       "      <td>1454.0</td>\n",
       "      <td>326.0</td>\n",
       "      <td>624.0</td>\n",
       "      <td>262.0</td>\n",
       "      <td>1.9250</td>\n",
       "      <td>65500.0</td>\n",
       "    </tr>\n",
       "  </tbody>\n",
       "</table>\n",
       "</div>"
      ],
      "text/plain": [
       "   longitude  latitude  housing_median_age  total_rooms  total_bedrooms  \\\n",
       "0    -114.31     34.19                15.0       5612.0          1283.0   \n",
       "1    -114.47     34.40                19.0       7650.0          1901.0   \n",
       "2    -114.56     33.69                17.0        720.0           174.0   \n",
       "3    -114.57     33.64                14.0       1501.0           337.0   \n",
       "4    -114.57     33.57                20.0       1454.0           326.0   \n",
       "\n",
       "   population  households  median_income  median_house_value  \n",
       "0      1015.0       472.0         1.4936             66900.0  \n",
       "1      1129.0       463.0         1.8200             80100.0  \n",
       "2       333.0       117.0         1.6509             85700.0  \n",
       "3       515.0       226.0         3.1917             73400.0  \n",
       "4       624.0       262.0         1.9250             65500.0  "
      ]
     },
     "execution_count": 3,
     "metadata": {},
     "output_type": "execute_result"
    }
   ],
   "source": [
    "df.head(5)"
   ]
  },
  {
   "cell_type": "code",
   "execution_count": 4,
   "id": "6914c7c3-7438-4e7c-a9d3-39a1b0ce2f65",
   "metadata": {},
   "outputs": [
    {
     "data": {
      "text/html": [
       "<div>\n",
       "<style scoped>\n",
       "    .dataframe tbody tr th:only-of-type {\n",
       "        vertical-align: middle;\n",
       "    }\n",
       "\n",
       "    .dataframe tbody tr th {\n",
       "        vertical-align: top;\n",
       "    }\n",
       "\n",
       "    .dataframe thead th {\n",
       "        text-align: right;\n",
       "    }\n",
       "</style>\n",
       "<table border=\"1\" class=\"dataframe\">\n",
       "  <thead>\n",
       "    <tr style=\"text-align: right;\">\n",
       "      <th></th>\n",
       "      <th>longitude</th>\n",
       "      <th>latitude</th>\n",
       "      <th>housing_median_age</th>\n",
       "      <th>total_rooms</th>\n",
       "      <th>total_bedrooms</th>\n",
       "      <th>population</th>\n",
       "      <th>households</th>\n",
       "      <th>median_income</th>\n",
       "      <th>median_house_value</th>\n",
       "    </tr>\n",
       "  </thead>\n",
       "  <tbody>\n",
       "    <tr>\n",
       "      <th>16990</th>\n",
       "      <td>-124.22</td>\n",
       "      <td>41.73</td>\n",
       "      <td>28.0</td>\n",
       "      <td>3003.0</td>\n",
       "      <td>699.0</td>\n",
       "      <td>1530.0</td>\n",
       "      <td>653.0</td>\n",
       "      <td>1.7038</td>\n",
       "      <td>78300.0</td>\n",
       "    </tr>\n",
       "    <tr>\n",
       "      <th>16991</th>\n",
       "      <td>-124.23</td>\n",
       "      <td>41.75</td>\n",
       "      <td>11.0</td>\n",
       "      <td>3159.0</td>\n",
       "      <td>616.0</td>\n",
       "      <td>1343.0</td>\n",
       "      <td>479.0</td>\n",
       "      <td>2.4805</td>\n",
       "      <td>73200.0</td>\n",
       "    </tr>\n",
       "    <tr>\n",
       "      <th>16992</th>\n",
       "      <td>-124.23</td>\n",
       "      <td>40.81</td>\n",
       "      <td>52.0</td>\n",
       "      <td>1112.0</td>\n",
       "      <td>209.0</td>\n",
       "      <td>544.0</td>\n",
       "      <td>172.0</td>\n",
       "      <td>3.3462</td>\n",
       "      <td>50800.0</td>\n",
       "    </tr>\n",
       "    <tr>\n",
       "      <th>16993</th>\n",
       "      <td>-124.23</td>\n",
       "      <td>40.54</td>\n",
       "      <td>52.0</td>\n",
       "      <td>2694.0</td>\n",
       "      <td>453.0</td>\n",
       "      <td>1152.0</td>\n",
       "      <td>435.0</td>\n",
       "      <td>3.0806</td>\n",
       "      <td>106700.0</td>\n",
       "    </tr>\n",
       "    <tr>\n",
       "      <th>16994</th>\n",
       "      <td>-124.25</td>\n",
       "      <td>40.28</td>\n",
       "      <td>32.0</td>\n",
       "      <td>1430.0</td>\n",
       "      <td>419.0</td>\n",
       "      <td>434.0</td>\n",
       "      <td>187.0</td>\n",
       "      <td>1.9417</td>\n",
       "      <td>76100.0</td>\n",
       "    </tr>\n",
       "    <tr>\n",
       "      <th>16995</th>\n",
       "      <td>-124.26</td>\n",
       "      <td>40.58</td>\n",
       "      <td>52.0</td>\n",
       "      <td>2217.0</td>\n",
       "      <td>394.0</td>\n",
       "      <td>907.0</td>\n",
       "      <td>369.0</td>\n",
       "      <td>2.3571</td>\n",
       "      <td>111400.0</td>\n",
       "    </tr>\n",
       "    <tr>\n",
       "      <th>16996</th>\n",
       "      <td>-124.27</td>\n",
       "      <td>40.69</td>\n",
       "      <td>36.0</td>\n",
       "      <td>2349.0</td>\n",
       "      <td>528.0</td>\n",
       "      <td>1194.0</td>\n",
       "      <td>465.0</td>\n",
       "      <td>2.5179</td>\n",
       "      <td>79000.0</td>\n",
       "    </tr>\n",
       "    <tr>\n",
       "      <th>16997</th>\n",
       "      <td>-124.30</td>\n",
       "      <td>41.84</td>\n",
       "      <td>17.0</td>\n",
       "      <td>2677.0</td>\n",
       "      <td>531.0</td>\n",
       "      <td>1244.0</td>\n",
       "      <td>456.0</td>\n",
       "      <td>3.0313</td>\n",
       "      <td>103600.0</td>\n",
       "    </tr>\n",
       "    <tr>\n",
       "      <th>16998</th>\n",
       "      <td>-124.30</td>\n",
       "      <td>41.80</td>\n",
       "      <td>19.0</td>\n",
       "      <td>2672.0</td>\n",
       "      <td>552.0</td>\n",
       "      <td>1298.0</td>\n",
       "      <td>478.0</td>\n",
       "      <td>1.9797</td>\n",
       "      <td>85800.0</td>\n",
       "    </tr>\n",
       "    <tr>\n",
       "      <th>16999</th>\n",
       "      <td>-124.35</td>\n",
       "      <td>40.54</td>\n",
       "      <td>52.0</td>\n",
       "      <td>1820.0</td>\n",
       "      <td>300.0</td>\n",
       "      <td>806.0</td>\n",
       "      <td>270.0</td>\n",
       "      <td>3.0147</td>\n",
       "      <td>94600.0</td>\n",
       "    </tr>\n",
       "  </tbody>\n",
       "</table>\n",
       "</div>"
      ],
      "text/plain": [
       "       longitude  latitude  housing_median_age  total_rooms  total_bedrooms  \\\n",
       "16990    -124.22     41.73                28.0       3003.0           699.0   \n",
       "16991    -124.23     41.75                11.0       3159.0           616.0   \n",
       "16992    -124.23     40.81                52.0       1112.0           209.0   \n",
       "16993    -124.23     40.54                52.0       2694.0           453.0   \n",
       "16994    -124.25     40.28                32.0       1430.0           419.0   \n",
       "16995    -124.26     40.58                52.0       2217.0           394.0   \n",
       "16996    -124.27     40.69                36.0       2349.0           528.0   \n",
       "16997    -124.30     41.84                17.0       2677.0           531.0   \n",
       "16998    -124.30     41.80                19.0       2672.0           552.0   \n",
       "16999    -124.35     40.54                52.0       1820.0           300.0   \n",
       "\n",
       "       population  households  median_income  median_house_value  \n",
       "16990      1530.0       653.0         1.7038             78300.0  \n",
       "16991      1343.0       479.0         2.4805             73200.0  \n",
       "16992       544.0       172.0         3.3462             50800.0  \n",
       "16993      1152.0       435.0         3.0806            106700.0  \n",
       "16994       434.0       187.0         1.9417             76100.0  \n",
       "16995       907.0       369.0         2.3571            111400.0  \n",
       "16996      1194.0       465.0         2.5179             79000.0  \n",
       "16997      1244.0       456.0         3.0313            103600.0  \n",
       "16998      1298.0       478.0         1.9797             85800.0  \n",
       "16999       806.0       270.0         3.0147             94600.0  "
      ]
     },
     "execution_count": 4,
     "metadata": {},
     "output_type": "execute_result"
    }
   ],
   "source": [
    "df.tail(10)"
   ]
  },
  {
   "cell_type": "code",
   "execution_count": 5,
   "id": "d42e8206-a235-4a18-bf83-43c1e2c5656e",
   "metadata": {},
   "outputs": [
    {
     "data": {
      "text/html": [
       "<div>\n",
       "<style scoped>\n",
       "    .dataframe tbody tr th:only-of-type {\n",
       "        vertical-align: middle;\n",
       "    }\n",
       "\n",
       "    .dataframe tbody tr th {\n",
       "        vertical-align: top;\n",
       "    }\n",
       "\n",
       "    .dataframe thead th {\n",
       "        text-align: right;\n",
       "    }\n",
       "</style>\n",
       "<table border=\"1\" class=\"dataframe\">\n",
       "  <thead>\n",
       "    <tr style=\"text-align: right;\">\n",
       "      <th></th>\n",
       "      <th>longitude</th>\n",
       "      <th>latitude</th>\n",
       "      <th>housing_median_age</th>\n",
       "      <th>total_rooms</th>\n",
       "      <th>total_bedrooms</th>\n",
       "      <th>population</th>\n",
       "      <th>households</th>\n",
       "      <th>median_income</th>\n",
       "      <th>median_house_value</th>\n",
       "    </tr>\n",
       "  </thead>\n",
       "  <tbody>\n",
       "    <tr>\n",
       "      <th>count</th>\n",
       "      <td>17000.000000</td>\n",
       "      <td>17000.000000</td>\n",
       "      <td>17000.000000</td>\n",
       "      <td>17000.000000</td>\n",
       "      <td>17000.000000</td>\n",
       "      <td>17000.000000</td>\n",
       "      <td>17000.000000</td>\n",
       "      <td>17000.000000</td>\n",
       "      <td>17000.000000</td>\n",
       "    </tr>\n",
       "    <tr>\n",
       "      <th>mean</th>\n",
       "      <td>-119.562108</td>\n",
       "      <td>35.625225</td>\n",
       "      <td>28.589353</td>\n",
       "      <td>2643.664412</td>\n",
       "      <td>539.410824</td>\n",
       "      <td>1429.573941</td>\n",
       "      <td>501.221941</td>\n",
       "      <td>3.883578</td>\n",
       "      <td>207300.912353</td>\n",
       "    </tr>\n",
       "    <tr>\n",
       "      <th>std</th>\n",
       "      <td>2.005166</td>\n",
       "      <td>2.137340</td>\n",
       "      <td>12.586937</td>\n",
       "      <td>2179.947071</td>\n",
       "      <td>421.499452</td>\n",
       "      <td>1147.852959</td>\n",
       "      <td>384.520841</td>\n",
       "      <td>1.908157</td>\n",
       "      <td>115983.764387</td>\n",
       "    </tr>\n",
       "    <tr>\n",
       "      <th>min</th>\n",
       "      <td>-124.350000</td>\n",
       "      <td>32.540000</td>\n",
       "      <td>1.000000</td>\n",
       "      <td>2.000000</td>\n",
       "      <td>1.000000</td>\n",
       "      <td>3.000000</td>\n",
       "      <td>1.000000</td>\n",
       "      <td>0.499900</td>\n",
       "      <td>14999.000000</td>\n",
       "    </tr>\n",
       "    <tr>\n",
       "      <th>25%</th>\n",
       "      <td>-121.790000</td>\n",
       "      <td>33.930000</td>\n",
       "      <td>18.000000</td>\n",
       "      <td>1462.000000</td>\n",
       "      <td>297.000000</td>\n",
       "      <td>790.000000</td>\n",
       "      <td>282.000000</td>\n",
       "      <td>2.566375</td>\n",
       "      <td>119400.000000</td>\n",
       "    </tr>\n",
       "    <tr>\n",
       "      <th>50%</th>\n",
       "      <td>-118.490000</td>\n",
       "      <td>34.250000</td>\n",
       "      <td>29.000000</td>\n",
       "      <td>2127.000000</td>\n",
       "      <td>434.000000</td>\n",
       "      <td>1167.000000</td>\n",
       "      <td>409.000000</td>\n",
       "      <td>3.544600</td>\n",
       "      <td>180400.000000</td>\n",
       "    </tr>\n",
       "    <tr>\n",
       "      <th>75%</th>\n",
       "      <td>-118.000000</td>\n",
       "      <td>37.720000</td>\n",
       "      <td>37.000000</td>\n",
       "      <td>3151.250000</td>\n",
       "      <td>648.250000</td>\n",
       "      <td>1721.000000</td>\n",
       "      <td>605.250000</td>\n",
       "      <td>4.767000</td>\n",
       "      <td>265000.000000</td>\n",
       "    </tr>\n",
       "    <tr>\n",
       "      <th>max</th>\n",
       "      <td>-114.310000</td>\n",
       "      <td>41.950000</td>\n",
       "      <td>52.000000</td>\n",
       "      <td>37937.000000</td>\n",
       "      <td>6445.000000</td>\n",
       "      <td>35682.000000</td>\n",
       "      <td>6082.000000</td>\n",
       "      <td>15.000100</td>\n",
       "      <td>500001.000000</td>\n",
       "    </tr>\n",
       "  </tbody>\n",
       "</table>\n",
       "</div>"
      ],
      "text/plain": [
       "          longitude      latitude  housing_median_age   total_rooms  \\\n",
       "count  17000.000000  17000.000000        17000.000000  17000.000000   \n",
       "mean    -119.562108     35.625225           28.589353   2643.664412   \n",
       "std        2.005166      2.137340           12.586937   2179.947071   \n",
       "min     -124.350000     32.540000            1.000000      2.000000   \n",
       "25%     -121.790000     33.930000           18.000000   1462.000000   \n",
       "50%     -118.490000     34.250000           29.000000   2127.000000   \n",
       "75%     -118.000000     37.720000           37.000000   3151.250000   \n",
       "max     -114.310000     41.950000           52.000000  37937.000000   \n",
       "\n",
       "       total_bedrooms    population    households  median_income  \\\n",
       "count    17000.000000  17000.000000  17000.000000   17000.000000   \n",
       "mean       539.410824   1429.573941    501.221941       3.883578   \n",
       "std        421.499452   1147.852959    384.520841       1.908157   \n",
       "min          1.000000      3.000000      1.000000       0.499900   \n",
       "25%        297.000000    790.000000    282.000000       2.566375   \n",
       "50%        434.000000   1167.000000    409.000000       3.544600   \n",
       "75%        648.250000   1721.000000    605.250000       4.767000   \n",
       "max       6445.000000  35682.000000   6082.000000      15.000100   \n",
       "\n",
       "       median_house_value  \n",
       "count        17000.000000  \n",
       "mean        207300.912353  \n",
       "std         115983.764387  \n",
       "min          14999.000000  \n",
       "25%         119400.000000  \n",
       "50%         180400.000000  \n",
       "75%         265000.000000  \n",
       "max         500001.000000  "
      ]
     },
     "execution_count": 5,
     "metadata": {},
     "output_type": "execute_result"
    }
   ],
   "source": [
    "df.describe()"
   ]
  },
  {
   "cell_type": "code",
   "execution_count": 7,
   "id": "8f07f634-4589-40f7-9d6a-c92ea6d4d51c",
   "metadata": {},
   "outputs": [
    {
     "name": "stdout",
     "output_type": "stream",
     "text": [
      "1848\n"
     ]
    }
   ],
   "source": [
    "vals = set(df[\"total_bedrooms\"])\n",
    "print(len(vals))"
   ]
  },
  {
   "cell_type": "code",
   "execution_count": 8,
   "id": "1c8720a5-8ae3-49b3-8865-3b496da7733d",
   "metadata": {},
   "outputs": [],
   "source": [
    "df[\"total_bedrooms_per_total_rooms\"] = (df[\"total_bedrooms\"]/df[\"total_rooms\"])/2"
   ]
  },
  {
   "cell_type": "code",
   "execution_count": 9,
   "id": "e6dbd2c0-340e-4811-8c30-20c290871e8b",
   "metadata": {},
   "outputs": [
    {
     "data": {
      "text/html": [
       "<div>\n",
       "<style scoped>\n",
       "    .dataframe tbody tr th:only-of-type {\n",
       "        vertical-align: middle;\n",
       "    }\n",
       "\n",
       "    .dataframe tbody tr th {\n",
       "        vertical-align: top;\n",
       "    }\n",
       "\n",
       "    .dataframe thead th {\n",
       "        text-align: right;\n",
       "    }\n",
       "</style>\n",
       "<table border=\"1\" class=\"dataframe\">\n",
       "  <thead>\n",
       "    <tr style=\"text-align: right;\">\n",
       "      <th></th>\n",
       "      <th>longitude</th>\n",
       "      <th>latitude</th>\n",
       "      <th>housing_median_age</th>\n",
       "      <th>total_rooms</th>\n",
       "      <th>total_bedrooms</th>\n",
       "      <th>population</th>\n",
       "      <th>households</th>\n",
       "      <th>median_income</th>\n",
       "      <th>median_house_value</th>\n",
       "      <th>total_bedrooms_per_total_rooms</th>\n",
       "    </tr>\n",
       "  </thead>\n",
       "  <tbody>\n",
       "    <tr>\n",
       "      <th>0</th>\n",
       "      <td>-114.31</td>\n",
       "      <td>34.19</td>\n",
       "      <td>15.0</td>\n",
       "      <td>5612.0</td>\n",
       "      <td>1283.0</td>\n",
       "      <td>1015.0</td>\n",
       "      <td>472.0</td>\n",
       "      <td>1.4936</td>\n",
       "      <td>66900.0</td>\n",
       "      <td>0.114309</td>\n",
       "    </tr>\n",
       "    <tr>\n",
       "      <th>1</th>\n",
       "      <td>-114.47</td>\n",
       "      <td>34.40</td>\n",
       "      <td>19.0</td>\n",
       "      <td>7650.0</td>\n",
       "      <td>1901.0</td>\n",
       "      <td>1129.0</td>\n",
       "      <td>463.0</td>\n",
       "      <td>1.8200</td>\n",
       "      <td>80100.0</td>\n",
       "      <td>0.124248</td>\n",
       "    </tr>\n",
       "    <tr>\n",
       "      <th>2</th>\n",
       "      <td>-114.56</td>\n",
       "      <td>33.69</td>\n",
       "      <td>17.0</td>\n",
       "      <td>720.0</td>\n",
       "      <td>174.0</td>\n",
       "      <td>333.0</td>\n",
       "      <td>117.0</td>\n",
       "      <td>1.6509</td>\n",
       "      <td>85700.0</td>\n",
       "      <td>0.120833</td>\n",
       "    </tr>\n",
       "    <tr>\n",
       "      <th>3</th>\n",
       "      <td>-114.57</td>\n",
       "      <td>33.64</td>\n",
       "      <td>14.0</td>\n",
       "      <td>1501.0</td>\n",
       "      <td>337.0</td>\n",
       "      <td>515.0</td>\n",
       "      <td>226.0</td>\n",
       "      <td>3.1917</td>\n",
       "      <td>73400.0</td>\n",
       "      <td>0.112258</td>\n",
       "    </tr>\n",
       "    <tr>\n",
       "      <th>4</th>\n",
       "      <td>-114.57</td>\n",
       "      <td>33.57</td>\n",
       "      <td>20.0</td>\n",
       "      <td>1454.0</td>\n",
       "      <td>326.0</td>\n",
       "      <td>624.0</td>\n",
       "      <td>262.0</td>\n",
       "      <td>1.9250</td>\n",
       "      <td>65500.0</td>\n",
       "      <td>0.112105</td>\n",
       "    </tr>\n",
       "    <tr>\n",
       "      <th>...</th>\n",
       "      <td>...</td>\n",
       "      <td>...</td>\n",
       "      <td>...</td>\n",
       "      <td>...</td>\n",
       "      <td>...</td>\n",
       "      <td>...</td>\n",
       "      <td>...</td>\n",
       "      <td>...</td>\n",
       "      <td>...</td>\n",
       "      <td>...</td>\n",
       "    </tr>\n",
       "    <tr>\n",
       "      <th>16995</th>\n",
       "      <td>-124.26</td>\n",
       "      <td>40.58</td>\n",
       "      <td>52.0</td>\n",
       "      <td>2217.0</td>\n",
       "      <td>394.0</td>\n",
       "      <td>907.0</td>\n",
       "      <td>369.0</td>\n",
       "      <td>2.3571</td>\n",
       "      <td>111400.0</td>\n",
       "      <td>0.088859</td>\n",
       "    </tr>\n",
       "    <tr>\n",
       "      <th>16996</th>\n",
       "      <td>-124.27</td>\n",
       "      <td>40.69</td>\n",
       "      <td>36.0</td>\n",
       "      <td>2349.0</td>\n",
       "      <td>528.0</td>\n",
       "      <td>1194.0</td>\n",
       "      <td>465.0</td>\n",
       "      <td>2.5179</td>\n",
       "      <td>79000.0</td>\n",
       "      <td>0.112388</td>\n",
       "    </tr>\n",
       "    <tr>\n",
       "      <th>16997</th>\n",
       "      <td>-124.30</td>\n",
       "      <td>41.84</td>\n",
       "      <td>17.0</td>\n",
       "      <td>2677.0</td>\n",
       "      <td>531.0</td>\n",
       "      <td>1244.0</td>\n",
       "      <td>456.0</td>\n",
       "      <td>3.0313</td>\n",
       "      <td>103600.0</td>\n",
       "      <td>0.099178</td>\n",
       "    </tr>\n",
       "    <tr>\n",
       "      <th>16998</th>\n",
       "      <td>-124.30</td>\n",
       "      <td>41.80</td>\n",
       "      <td>19.0</td>\n",
       "      <td>2672.0</td>\n",
       "      <td>552.0</td>\n",
       "      <td>1298.0</td>\n",
       "      <td>478.0</td>\n",
       "      <td>1.9797</td>\n",
       "      <td>85800.0</td>\n",
       "      <td>0.103293</td>\n",
       "    </tr>\n",
       "    <tr>\n",
       "      <th>16999</th>\n",
       "      <td>-124.35</td>\n",
       "      <td>40.54</td>\n",
       "      <td>52.0</td>\n",
       "      <td>1820.0</td>\n",
       "      <td>300.0</td>\n",
       "      <td>806.0</td>\n",
       "      <td>270.0</td>\n",
       "      <td>3.0147</td>\n",
       "      <td>94600.0</td>\n",
       "      <td>0.082418</td>\n",
       "    </tr>\n",
       "  </tbody>\n",
       "</table>\n",
       "<p>17000 rows × 10 columns</p>\n",
       "</div>"
      ],
      "text/plain": [
       "       longitude  latitude  housing_median_age  total_rooms  total_bedrooms  \\\n",
       "0        -114.31     34.19                15.0       5612.0          1283.0   \n",
       "1        -114.47     34.40                19.0       7650.0          1901.0   \n",
       "2        -114.56     33.69                17.0        720.0           174.0   \n",
       "3        -114.57     33.64                14.0       1501.0           337.0   \n",
       "4        -114.57     33.57                20.0       1454.0           326.0   \n",
       "...          ...       ...                 ...          ...             ...   \n",
       "16995    -124.26     40.58                52.0       2217.0           394.0   \n",
       "16996    -124.27     40.69                36.0       2349.0           528.0   \n",
       "16997    -124.30     41.84                17.0       2677.0           531.0   \n",
       "16998    -124.30     41.80                19.0       2672.0           552.0   \n",
       "16999    -124.35     40.54                52.0       1820.0           300.0   \n",
       "\n",
       "       population  households  median_income  median_house_value  \\\n",
       "0          1015.0       472.0         1.4936             66900.0   \n",
       "1          1129.0       463.0         1.8200             80100.0   \n",
       "2           333.0       117.0         1.6509             85700.0   \n",
       "3           515.0       226.0         3.1917             73400.0   \n",
       "4           624.0       262.0         1.9250             65500.0   \n",
       "...           ...         ...            ...                 ...   \n",
       "16995       907.0       369.0         2.3571            111400.0   \n",
       "16996      1194.0       465.0         2.5179             79000.0   \n",
       "16997      1244.0       456.0         3.0313            103600.0   \n",
       "16998      1298.0       478.0         1.9797             85800.0   \n",
       "16999       806.0       270.0         3.0147             94600.0   \n",
       "\n",
       "       total_bedrooms_per_total_rooms  \n",
       "0                            0.114309  \n",
       "1                            0.124248  \n",
       "2                            0.120833  \n",
       "3                            0.112258  \n",
       "4                            0.112105  \n",
       "...                               ...  \n",
       "16995                        0.088859  \n",
       "16996                        0.112388  \n",
       "16997                        0.099178  \n",
       "16998                        0.103293  \n",
       "16999                        0.082418  \n",
       "\n",
       "[17000 rows x 10 columns]"
      ]
     },
     "execution_count": 9,
     "metadata": {},
     "output_type": "execute_result"
    }
   ],
   "source": [
    "df"
   ]
  },
  {
   "cell_type": "code",
   "execution_count": 10,
   "id": "f668f5cc-c2ba-4ea1-ab47-0fdd5fd49740",
   "metadata": {},
   "outputs": [
    {
     "name": "stdout",
     "output_type": "stream",
     "text": [
      "0.10637999410517401\n",
      "0.028911504451580836\n"
     ]
    }
   ],
   "source": [
    "mean = df[\"total_bedrooms_per_total_rooms\"].mean()\n",
    "sd = df[\"total_bedrooms_per_total_rooms\"].std()\n",
    "print(mean)\n",
    "print(sd)"
   ]
  },
  {
   "cell_type": "code",
   "execution_count": 12,
   "id": "3b0d73cb-1c9e-4722-abd4-32aa430332ec",
   "metadata": {},
   "outputs": [
    {
     "data": {
      "text/html": [
       "<div>\n",
       "<style scoped>\n",
       "    .dataframe tbody tr th:only-of-type {\n",
       "        vertical-align: middle;\n",
       "    }\n",
       "\n",
       "    .dataframe tbody tr th {\n",
       "        vertical-align: top;\n",
       "    }\n",
       "\n",
       "    .dataframe thead th {\n",
       "        text-align: right;\n",
       "    }\n",
       "</style>\n",
       "<table border=\"1\" class=\"dataframe\">\n",
       "  <thead>\n",
       "    <tr style=\"text-align: right;\">\n",
       "      <th></th>\n",
       "      <th>longitude</th>\n",
       "      <th>latitude</th>\n",
       "      <th>housing_median_age</th>\n",
       "      <th>total_rooms</th>\n",
       "      <th>total_bedrooms</th>\n",
       "      <th>population</th>\n",
       "      <th>households</th>\n",
       "      <th>median_income</th>\n",
       "      <th>median_house_value</th>\n",
       "      <th>total_bedrooms_per_total_rooms</th>\n",
       "    </tr>\n",
       "  </thead>\n",
       "  <tbody>\n",
       "    <tr>\n",
       "      <th>32</th>\n",
       "      <td>-115.39</td>\n",
       "      <td>32.76</td>\n",
       "      <td>16.0</td>\n",
       "      <td>1136.0</td>\n",
       "      <td>196.0</td>\n",
       "      <td>481.0</td>\n",
       "      <td>185.0</td>\n",
       "      <td>6.2558</td>\n",
       "      <td>146300.0</td>\n",
       "      <td>0.086268</td>\n",
       "    </tr>\n",
       "    <tr>\n",
       "      <th>69</th>\n",
       "      <td>-115.55</td>\n",
       "      <td>32.98</td>\n",
       "      <td>33.0</td>\n",
       "      <td>2266.0</td>\n",
       "      <td>365.0</td>\n",
       "      <td>952.0</td>\n",
       "      <td>360.0</td>\n",
       "      <td>5.4349</td>\n",
       "      <td>143000.0</td>\n",
       "      <td>0.080538</td>\n",
       "    </tr>\n",
       "    <tr>\n",
       "      <th>92</th>\n",
       "      <td>-115.57</td>\n",
       "      <td>32.78</td>\n",
       "      <td>20.0</td>\n",
       "      <td>1534.0</td>\n",
       "      <td>235.0</td>\n",
       "      <td>871.0</td>\n",
       "      <td>222.0</td>\n",
       "      <td>6.2715</td>\n",
       "      <td>97200.0</td>\n",
       "      <td>0.076597</td>\n",
       "    </tr>\n",
       "    <tr>\n",
       "      <th>98</th>\n",
       "      <td>-115.58</td>\n",
       "      <td>32.78</td>\n",
       "      <td>5.0</td>\n",
       "      <td>2494.0</td>\n",
       "      <td>414.0</td>\n",
       "      <td>1416.0</td>\n",
       "      <td>421.0</td>\n",
       "      <td>5.7843</td>\n",
       "      <td>110100.0</td>\n",
       "      <td>0.082999</td>\n",
       "    </tr>\n",
       "    <tr>\n",
       "      <th>100</th>\n",
       "      <td>-115.59</td>\n",
       "      <td>32.79</td>\n",
       "      <td>8.0</td>\n",
       "      <td>2183.0</td>\n",
       "      <td>307.0</td>\n",
       "      <td>1000.0</td>\n",
       "      <td>287.0</td>\n",
       "      <td>6.3814</td>\n",
       "      <td>159900.0</td>\n",
       "      <td>0.070316</td>\n",
       "    </tr>\n",
       "    <tr>\n",
       "      <th>...</th>\n",
       "      <td>...</td>\n",
       "      <td>...</td>\n",
       "      <td>...</td>\n",
       "      <td>...</td>\n",
       "      <td>...</td>\n",
       "      <td>...</td>\n",
       "      <td>...</td>\n",
       "      <td>...</td>\n",
       "      <td>...</td>\n",
       "      <td>...</td>\n",
       "    </tr>\n",
       "    <tr>\n",
       "      <th>16737</th>\n",
       "      <td>-122.89</td>\n",
       "      <td>38.38</td>\n",
       "      <td>16.0</td>\n",
       "      <td>2017.0</td>\n",
       "      <td>369.0</td>\n",
       "      <td>931.0</td>\n",
       "      <td>336.0</td>\n",
       "      <td>5.7664</td>\n",
       "      <td>267500.0</td>\n",
       "      <td>0.091472</td>\n",
       "    </tr>\n",
       "    <tr>\n",
       "      <th>16762</th>\n",
       "      <td>-122.94</td>\n",
       "      <td>38.57</td>\n",
       "      <td>33.0</td>\n",
       "      <td>1530.0</td>\n",
       "      <td>266.0</td>\n",
       "      <td>728.0</td>\n",
       "      <td>250.0</td>\n",
       "      <td>5.1005</td>\n",
       "      <td>266700.0</td>\n",
       "      <td>0.086928</td>\n",
       "    </tr>\n",
       "    <tr>\n",
       "      <th>16776</th>\n",
       "      <td>-123.00</td>\n",
       "      <td>38.33</td>\n",
       "      <td>8.0</td>\n",
       "      <td>3223.0</td>\n",
       "      <td>637.0</td>\n",
       "      <td>851.0</td>\n",
       "      <td>418.0</td>\n",
       "      <td>5.6445</td>\n",
       "      <td>364800.0</td>\n",
       "      <td>0.098821</td>\n",
       "    </tr>\n",
       "    <tr>\n",
       "      <th>16802</th>\n",
       "      <td>-123.17</td>\n",
       "      <td>39.18</td>\n",
       "      <td>14.0</td>\n",
       "      <td>2240.0</td>\n",
       "      <td>327.0</td>\n",
       "      <td>1030.0</td>\n",
       "      <td>308.0</td>\n",
       "      <td>5.9585</td>\n",
       "      <td>214900.0</td>\n",
       "      <td>0.072991</td>\n",
       "    </tr>\n",
       "    <tr>\n",
       "      <th>16899</th>\n",
       "      <td>-124.05</td>\n",
       "      <td>40.94</td>\n",
       "      <td>14.0</td>\n",
       "      <td>1452.0</td>\n",
       "      <td>217.0</td>\n",
       "      <td>516.0</td>\n",
       "      <td>181.0</td>\n",
       "      <td>5.0329</td>\n",
       "      <td>165600.0</td>\n",
       "      <td>0.074725</td>\n",
       "    </tr>\n",
       "  </tbody>\n",
       "</table>\n",
       "<p>3752 rows × 10 columns</p>\n",
       "</div>"
      ],
      "text/plain": [
       "       longitude  latitude  housing_median_age  total_rooms  total_bedrooms  \\\n",
       "32       -115.39     32.76                16.0       1136.0           196.0   \n",
       "69       -115.55     32.98                33.0       2266.0           365.0   \n",
       "92       -115.57     32.78                20.0       1534.0           235.0   \n",
       "98       -115.58     32.78                 5.0       2494.0           414.0   \n",
       "100      -115.59     32.79                 8.0       2183.0           307.0   \n",
       "...          ...       ...                 ...          ...             ...   \n",
       "16737    -122.89     38.38                16.0       2017.0           369.0   \n",
       "16762    -122.94     38.57                33.0       1530.0           266.0   \n",
       "16776    -123.00     38.33                 8.0       3223.0           637.0   \n",
       "16802    -123.17     39.18                14.0       2240.0           327.0   \n",
       "16899    -124.05     40.94                14.0       1452.0           217.0   \n",
       "\n",
       "       population  households  median_income  median_house_value  \\\n",
       "32          481.0       185.0         6.2558            146300.0   \n",
       "69          952.0       360.0         5.4349            143000.0   \n",
       "92          871.0       222.0         6.2715             97200.0   \n",
       "98         1416.0       421.0         5.7843            110100.0   \n",
       "100        1000.0       287.0         6.3814            159900.0   \n",
       "...           ...         ...            ...                 ...   \n",
       "16737       931.0       336.0         5.7664            267500.0   \n",
       "16762       728.0       250.0         5.1005            266700.0   \n",
       "16776       851.0       418.0         5.6445            364800.0   \n",
       "16802      1030.0       308.0         5.9585            214900.0   \n",
       "16899       516.0       181.0         5.0329            165600.0   \n",
       "\n",
       "       total_bedrooms_per_total_rooms  \n",
       "32                           0.086268  \n",
       "69                           0.080538  \n",
       "92                           0.076597  \n",
       "98                           0.082999  \n",
       "100                          0.070316  \n",
       "...                               ...  \n",
       "16737                        0.091472  \n",
       "16762                        0.086928  \n",
       "16776                        0.098821  \n",
       "16802                        0.072991  \n",
       "16899                        0.074725  \n",
       "\n",
       "[3752 rows x 10 columns]"
      ]
     },
     "execution_count": 12,
     "metadata": {},
     "output_type": "execute_result"
    }
   ],
   "source": [
    "df[df[\"median_income\"]>5]"
   ]
  },
  {
   "cell_type": "code",
   "execution_count": 13,
   "id": "87a4ae40-3731-4c2e-bb2a-975052439583",
   "metadata": {},
   "outputs": [],
   "source": [
    "newdf = df[(df[\"total_rooms\"]>10000) & (df[\"median_house_value\"] <150000)]"
   ]
  },
  {
   "cell_type": "code",
   "execution_count": 14,
   "id": "c614895c-6869-464b-aa36-1e6cafa5dd1d",
   "metadata": {},
   "outputs": [
    {
     "data": {
      "text/html": [
       "<div>\n",
       "<style scoped>\n",
       "    .dataframe tbody tr th:only-of-type {\n",
       "        vertical-align: middle;\n",
       "    }\n",
       "\n",
       "    .dataframe tbody tr th {\n",
       "        vertical-align: top;\n",
       "    }\n",
       "\n",
       "    .dataframe thead th {\n",
       "        text-align: right;\n",
       "    }\n",
       "</style>\n",
       "<table border=\"1\" class=\"dataframe\">\n",
       "  <thead>\n",
       "    <tr style=\"text-align: right;\">\n",
       "      <th></th>\n",
       "      <th>longitude</th>\n",
       "      <th>latitude</th>\n",
       "      <th>housing_median_age</th>\n",
       "      <th>total_rooms</th>\n",
       "      <th>total_bedrooms</th>\n",
       "      <th>population</th>\n",
       "      <th>households</th>\n",
       "      <th>median_income</th>\n",
       "      <th>median_house_value</th>\n",
       "      <th>total_bedrooms_per_total_rooms</th>\n",
       "    </tr>\n",
       "  </thead>\n",
       "  <tbody>\n",
       "    <tr>\n",
       "      <th>133</th>\n",
       "      <td>-116.06</td>\n",
       "      <td>34.15</td>\n",
       "      <td>15.0</td>\n",
       "      <td>10377.0</td>\n",
       "      <td>2331.0</td>\n",
       "      <td>4507.0</td>\n",
       "      <td>1807.0</td>\n",
       "      <td>2.2466</td>\n",
       "      <td>66800.0</td>\n",
       "      <td>0.112316</td>\n",
       "    </tr>\n",
       "    <tr>\n",
       "      <th>191</th>\n",
       "      <td>-116.36</td>\n",
       "      <td>33.88</td>\n",
       "      <td>11.0</td>\n",
       "      <td>12557.0</td>\n",
       "      <td>3098.0</td>\n",
       "      <td>2453.0</td>\n",
       "      <td>1232.0</td>\n",
       "      <td>1.7844</td>\n",
       "      <td>78500.0</td>\n",
       "      <td>0.123357</td>\n",
       "    </tr>\n",
       "    <tr>\n",
       "      <th>198</th>\n",
       "      <td>-116.38</td>\n",
       "      <td>33.73</td>\n",
       "      <td>10.0</td>\n",
       "      <td>11836.0</td>\n",
       "      <td>2405.0</td>\n",
       "      <td>3811.0</td>\n",
       "      <td>1570.0</td>\n",
       "      <td>4.0079</td>\n",
       "      <td>134500.0</td>\n",
       "      <td>0.101597</td>\n",
       "    </tr>\n",
       "    <tr>\n",
       "      <th>201</th>\n",
       "      <td>-116.39</td>\n",
       "      <td>33.82</td>\n",
       "      <td>15.0</td>\n",
       "      <td>11115.0</td>\n",
       "      <td>2257.0</td>\n",
       "      <td>4122.0</td>\n",
       "      <td>1653.0</td>\n",
       "      <td>2.7219</td>\n",
       "      <td>74400.0</td>\n",
       "      <td>0.101529</td>\n",
       "    </tr>\n",
       "    <tr>\n",
       "      <th>229</th>\n",
       "      <td>-116.47</td>\n",
       "      <td>33.81</td>\n",
       "      <td>7.0</td>\n",
       "      <td>10105.0</td>\n",
       "      <td>2481.0</td>\n",
       "      <td>6274.0</td>\n",
       "      <td>2095.0</td>\n",
       "      <td>2.4497</td>\n",
       "      <td>90900.0</td>\n",
       "      <td>0.122761</td>\n",
       "    </tr>\n",
       "    <tr>\n",
       "      <th>...</th>\n",
       "      <td>...</td>\n",
       "      <td>...</td>\n",
       "      <td>...</td>\n",
       "      <td>...</td>\n",
       "      <td>...</td>\n",
       "      <td>...</td>\n",
       "      <td>...</td>\n",
       "      <td>...</td>\n",
       "      <td>...</td>\n",
       "      <td>...</td>\n",
       "    </tr>\n",
       "    <tr>\n",
       "      <th>12654</th>\n",
       "      <td>-121.75</td>\n",
       "      <td>38.67</td>\n",
       "      <td>9.0</td>\n",
       "      <td>12139.0</td>\n",
       "      <td>2640.0</td>\n",
       "      <td>6837.0</td>\n",
       "      <td>2358.0</td>\n",
       "      <td>3.1250</td>\n",
       "      <td>132500.0</td>\n",
       "      <td>0.108740</td>\n",
       "    </tr>\n",
       "    <tr>\n",
       "      <th>12772</th>\n",
       "      <td>-121.79</td>\n",
       "      <td>36.64</td>\n",
       "      <td>11.0</td>\n",
       "      <td>32627.0</td>\n",
       "      <td>6445.0</td>\n",
       "      <td>28566.0</td>\n",
       "      <td>6082.0</td>\n",
       "      <td>2.3087</td>\n",
       "      <td>118800.0</td>\n",
       "      <td>0.098768</td>\n",
       "    </tr>\n",
       "    <tr>\n",
       "      <th>13388</th>\n",
       "      <td>-121.94</td>\n",
       "      <td>38.27</td>\n",
       "      <td>35.0</td>\n",
       "      <td>10869.0</td>\n",
       "      <td>2226.0</td>\n",
       "      <td>9879.0</td>\n",
       "      <td>2152.0</td>\n",
       "      <td>2.5681</td>\n",
       "      <td>81300.0</td>\n",
       "      <td>0.102401</td>\n",
       "    </tr>\n",
       "    <tr>\n",
       "      <th>13707</th>\n",
       "      <td>-122.00</td>\n",
       "      <td>38.25</td>\n",
       "      <td>7.0</td>\n",
       "      <td>11768.0</td>\n",
       "      <td>1893.0</td>\n",
       "      <td>6657.0</td>\n",
       "      <td>1874.0</td>\n",
       "      <td>4.9222</td>\n",
       "      <td>142900.0</td>\n",
       "      <td>0.080430</td>\n",
       "    </tr>\n",
       "    <tr>\n",
       "      <th>15436</th>\n",
       "      <td>-122.31</td>\n",
       "      <td>40.55</td>\n",
       "      <td>11.0</td>\n",
       "      <td>13714.0</td>\n",
       "      <td>2302.0</td>\n",
       "      <td>6511.0</td>\n",
       "      <td>2267.0</td>\n",
       "      <td>3.5522</td>\n",
       "      <td>100100.0</td>\n",
       "      <td>0.083929</td>\n",
       "    </tr>\n",
       "  </tbody>\n",
       "</table>\n",
       "<p>67 rows × 10 columns</p>\n",
       "</div>"
      ],
      "text/plain": [
       "       longitude  latitude  housing_median_age  total_rooms  total_bedrooms  \\\n",
       "133      -116.06     34.15                15.0      10377.0          2331.0   \n",
       "191      -116.36     33.88                11.0      12557.0          3098.0   \n",
       "198      -116.38     33.73                10.0      11836.0          2405.0   \n",
       "201      -116.39     33.82                15.0      11115.0          2257.0   \n",
       "229      -116.47     33.81                 7.0      10105.0          2481.0   \n",
       "...          ...       ...                 ...          ...             ...   \n",
       "12654    -121.75     38.67                 9.0      12139.0          2640.0   \n",
       "12772    -121.79     36.64                11.0      32627.0          6445.0   \n",
       "13388    -121.94     38.27                35.0      10869.0          2226.0   \n",
       "13707    -122.00     38.25                 7.0      11768.0          1893.0   \n",
       "15436    -122.31     40.55                11.0      13714.0          2302.0   \n",
       "\n",
       "       population  households  median_income  median_house_value  \\\n",
       "133        4507.0      1807.0         2.2466             66800.0   \n",
       "191        2453.0      1232.0         1.7844             78500.0   \n",
       "198        3811.0      1570.0         4.0079            134500.0   \n",
       "201        4122.0      1653.0         2.7219             74400.0   \n",
       "229        6274.0      2095.0         2.4497             90900.0   \n",
       "...           ...         ...            ...                 ...   \n",
       "12654      6837.0      2358.0         3.1250            132500.0   \n",
       "12772     28566.0      6082.0         2.3087            118800.0   \n",
       "13388      9879.0      2152.0         2.5681             81300.0   \n",
       "13707      6657.0      1874.0         4.9222            142900.0   \n",
       "15436      6511.0      2267.0         3.5522            100100.0   \n",
       "\n",
       "       total_bedrooms_per_total_rooms  \n",
       "133                          0.112316  \n",
       "191                          0.123357  \n",
       "198                          0.101597  \n",
       "201                          0.101529  \n",
       "229                          0.122761  \n",
       "...                               ...  \n",
       "12654                        0.108740  \n",
       "12772                        0.098768  \n",
       "13388                        0.102401  \n",
       "13707                        0.080430  \n",
       "15436                        0.083929  \n",
       "\n",
       "[67 rows x 10 columns]"
      ]
     },
     "execution_count": 14,
     "metadata": {},
     "output_type": "execute_result"
    }
   ],
   "source": [
    "newdf"
   ]
  },
  {
   "cell_type": "markdown",
   "id": "a2898e12-e1b0-4f1c-819f-46eef90a4c06",
   "metadata": {},
   "source": [
    "**Part 2**\n",
    "\n",
    "- Exploring NumPy"
   ]
  },
  {
   "cell_type": "code",
   "execution_count": 15,
   "id": "dbf7ca5f-1ac8-4a71-8c7b-61df50a6c774",
   "metadata": {},
   "outputs": [],
   "source": [
    "a = np.array(range(1,21))"
   ]
  },
  {
   "cell_type": "code",
   "execution_count": 16,
   "id": "4af1f4d2-c57e-4890-93c0-5883346c6233",
   "metadata": {},
   "outputs": [
    {
     "data": {
      "text/plain": [
       "array([ 1,  2,  3,  4,  5,  6,  7,  8,  9, 10, 11, 12, 13, 14, 15, 16, 17,\n",
       "       18, 19, 20])"
      ]
     },
     "execution_count": 16,
     "metadata": {},
     "output_type": "execute_result"
    }
   ],
   "source": [
    "a"
   ]
  },
  {
   "cell_type": "code",
   "execution_count": 21,
   "id": "534a19cd-133f-4b88-990c-731dcef47ebc",
   "metadata": {},
   "outputs": [
    {
     "data": {
      "text/plain": [
       "array([ 2,  4,  6,  8, 10, 12, 14, 16, 18, 20])"
      ]
     },
     "execution_count": 21,
     "metadata": {},
     "output_type": "execute_result"
    }
   ],
   "source": [
    "even = a[1::2]\n",
    "even"
   ]
  },
  {
   "cell_type": "code",
   "execution_count": 24,
   "id": "5db6dabc-289e-40ef-8c5f-87662f84f138",
   "metadata": {},
   "outputs": [
    {
     "data": {
      "text/plain": [
       "array([[68, 60, 88, 77],\n",
       "       [96, 78, 15, 10],\n",
       "       [51, 89, 97, 47],\n",
       "       [46, 31, 75, 97],\n",
       "       [39, 72, 28, 95]], dtype=int32)"
      ]
     },
     "execution_count": 24,
     "metadata": {},
     "output_type": "execute_result"
    }
   ],
   "source": [
    "b = np.random.randint(10,100,size=(5,4))\n",
    "b"
   ]
  },
  {
   "cell_type": "code",
   "execution_count": 27,
   "id": "fe717c71-d7c3-41f7-b063-ade0420a8d9f",
   "metadata": {},
   "outputs": [
    {
     "data": {
      "text/plain": [
       "array([[68, 60],\n",
       "       [96, 78],\n",
       "       [51, 89]], dtype=int32)"
      ]
     },
     "execution_count": 27,
     "metadata": {},
     "output_type": "execute_result"
    }
   ],
   "source": [
    "c = b[:3,:2]\n",
    "c"
   ]
  },
  {
   "cell_type": "code",
   "execution_count": 29,
   "id": "1159e9ec-66ff-4127-8630-8bef9a8c2bb8",
   "metadata": {},
   "outputs": [
    {
     "data": {
      "text/plain": [
       "array([[ 1,  2,  3,  4,  5],\n",
       "       [ 6,  7,  8,  9, 10],\n",
       "       [11, 12, 13, 14, 15],\n",
       "       [16, 17, 18, 19, 20]])"
      ]
     },
     "execution_count": 29,
     "metadata": {},
     "output_type": "execute_result"
    }
   ],
   "source": [
    "d = a.reshape(4,5)\n",
    "d"
   ]
  },
  {
   "cell_type": "code",
   "execution_count": 33,
   "id": "c1790f7e-4edc-4f98-a2b2-f2ef58995135",
   "metadata": {},
   "outputs": [
    {
     "name": "stdout",
     "output_type": "stream",
     "text": [
      "[[ 1  2  3  4  5  6  7  8  9 10 11 12 13 14 15 16 17 18 19 20]]\n"
     ]
    }
   ],
   "source": [
    "e = d.reshape(1,20)\n",
    "print(e)"
   ]
  },
  {
   "cell_type": "code",
   "execution_count": 35,
   "id": "7fad90bc-897a-4efc-a7cd-091d96d99499",
   "metadata": {},
   "outputs": [
    {
     "data": {
      "text/plain": [
       "array([[2628, 2921, 3214, 3507, 3800],\n",
       "       [ 889, 1088, 1287, 1486, 1685],\n",
       "       [2404, 2688, 2972, 3256, 3540],\n",
       "       [2609, 2858, 3107, 3356, 3605],\n",
       "       [2299, 2533, 2767, 3001, 3235]])"
      ]
     },
     "execution_count": 35,
     "metadata": {},
     "output_type": "execute_result"
    }
   ],
   "source": [
    "f = np.matmul(b,d)\n",
    "f"
   ]
  },
  {
   "cell_type": "code",
   "execution_count": 38,
   "id": "2e7cd27d-1db4-4cc5-bcb9-06a89f731c67",
   "metadata": {},
   "outputs": [
    {
     "data": {
      "text/plain": [
       "array([[95, 34, 33, 42, 44, 22, 57, 43, 90, 33, 28, 21, 46,  7, 81, 14,\n",
       "        32, 82, 33, 91, 93,  1,  6, 56, 59, 40, 30, 22, 20, 26, 97,  5,\n",
       "        19, 53, 79, 60, 85, 52, 10,  2, 55, 32, 25, 11, 32, 22, 77, 15,\n",
       "        92, 38, 68, 78, 88, 21, 76, 86, 60, 77, 60, 37, 85, 71, 13, 86,\n",
       "        45, 31, 10, 96, 46, 44, 53, 32, 49, 89, 73, 13, 14, 80, 79,  1,\n",
       "        46, 55, 13, 15, 92, 62, 10,  0, 18, 99, 79, 53, 16, 95, 65, 54,\n",
       "        58, 81, 30, 51]], dtype=int32)"
      ]
     },
     "execution_count": 38,
     "metadata": {},
     "output_type": "execute_result"
    }
   ],
   "source": [
    "g = np.random.randint(0,100,size=(1,100))\n",
    "g"
   ]
  },
  {
   "cell_type": "code",
   "execution_count": 45,
   "id": "9f1780b9-8ff6-4548-87c4-9b0cc3d184fd",
   "metadata": {},
   "outputs": [
    {
     "data": {
      "text/plain": [
       "array([95, 57, 90, 81, 82, 91, 93, 56, 59, 97, 53, 79, 60, 85, 52, 55, 77,\n",
       "       92, 68, 78, 88, 76, 86, 60, 77, 60, 85, 71, 86, 96, 53, 89, 73, 80,\n",
       "       79, 55, 92, 62, 99, 79, 53, 95, 65, 54, 58, 81, 51], dtype=int32)"
      ]
     },
     "execution_count": 45,
     "metadata": {},
     "output_type": "execute_result"
    }
   ],
   "source": [
    "h = g>50 #boolean indices\n",
    "g[h]"
   ]
  },
  {
   "cell_type": "code",
   "execution_count": 58,
   "id": "3f45e39a-1a71-43e9-8b58-6ca064ed65cd",
   "metadata": {},
   "outputs": [
    {
     "data": {
      "text/plain": [
       "array([34, 33, 42, 22, 90,  7,  1, 79], dtype=int32)"
      ]
     },
     "execution_count": 58,
     "metadata": {},
     "output_type": "execute_result"
    }
   ],
   "source": [
    "g[0,[1,2,3,5,8,13,21,34]] #fancy indexing with fibonacci indices, because why not"
   ]
  },
  {
   "cell_type": "code",
   "execution_count": 68,
   "id": "07a9f24e-8e5d-473b-a5d6-59511912d5d0",
   "metadata": {},
   "outputs": [
    {
     "name": "stdout",
     "output_type": "stream",
     "text": [
      "[60.  66.  60.6 65.2]\n",
      "[96 89 97 97]\n",
      "[300 330 303 326]\n"
     ]
    }
   ],
   "source": [
    "b #2D array created earlier\n",
    "mean = b.mean(axis=0)\n",
    "print(mean)\n",
    "print(b.max(axis=0))\n",
    "print(b.sum(axis=0))"
   ]
  },
  {
   "cell_type": "code",
   "execution_count": 73,
   "id": "579a22ed-804b-41a5-a489-bb0549ff2652",
   "metadata": {},
   "outputs": [
    {
     "data": {
      "text/plain": [
       "array([68, 88, 77, 96, 78, 89, 97, 75, 97, 72, 95], dtype=int32)"
      ]
     },
     "execution_count": 73,
     "metadata": {},
     "output_type": "execute_result"
    }
   ],
   "source": [
    "mask = b>mean\n",
    "b[mask]"
   ]
  },
  {
   "cell_type": "markdown",
   "id": "606f5a92-95b2-4c47-a8ad-6829102854df",
   "metadata": {},
   "source": [
    "**Part 3**\n",
    "\n",
    "- A few python tasks"
   ]
  },
  {
   "cell_type": "code",
   "execution_count": 76,
   "id": "96d11c0d-2bd5-4018-bb38-94c3f05d5e95",
   "metadata": {},
   "outputs": [
    {
     "name": "stdout",
     "output_type": "stream",
     "text": [
      "[1, 1, 2, 4, 8, 16, 32, 64, 128, 256, 512, 1024, 2048, 4096, 8192, 16384, 32768, 65536, 131072, 262144, 524288, 1048576, 2097152, 4194304, 8388608, 16777216, 33554432, 67108864, 134217728, 268435456, 536870912, 1073741824, 2147483648, 4294967296, 8589934592, 17179869184, 34359738368, 68719476736, 137438953472, 274877906944, 549755813888, 1099511627776, 2199023255552, 4398046511104, 8796093022208, 17592186044416, 35184372088832, 70368744177664, 140737488355328, 281474976710656, 562949953421312, 1125899906842624, 2251799813685248, 4503599627370496, 9007199254740992, 18014398509481984, 36028797018963968, 72057594037927936, 144115188075855872, 288230376151711744, 576460752303423488, 1152921504606846976, 2305843009213693952, 4611686018427387904, 9223372036854775808, 18446744073709551616, 36893488147419103232, 73786976294838206464, 147573952589676412928, 295147905179352825856, 590295810358705651712, 1180591620717411303424, 2361183241434822606848, 4722366482869645213696, 9444732965739290427392, 18889465931478580854784, 37778931862957161709568, 75557863725914323419136, 151115727451828646838272, 302231454903657293676544, 604462909807314587353088, 1208925819614629174706176, 2417851639229258349412352, 4835703278458516698824704, 9671406556917033397649408, 19342813113834066795298816, 38685626227668133590597632, 77371252455336267181195264, 154742504910672534362390528, 309485009821345068724781056, 618970019642690137449562112, 1237940039285380274899124224, 2475880078570760549798248448, 4951760157141521099596496896, 9903520314283042199192993792, 19807040628566084398385987584, 39614081257132168796771975168, 79228162514264337593543950336, 158456325028528675187087900672, 316912650057057350374175801344]\n"
     ]
    }
   ],
   "source": [
    "a = 1\n",
    "b = 1\n",
    "fib = []\n",
    "fib.append(a)\n",
    "fib.append(b)\n",
    "for i in range(98):\n",
    "    c = a+b\n",
    "    b = c\n",
    "    a = b\n",
    "    fib.append(c)\n",
    "print(fib)"
   ]
  },
  {
   "cell_type": "code",
   "execution_count": 77,
   "id": "f0e2e539-f6d5-4840-8c3d-a10eb44666b4",
   "metadata": {},
   "outputs": [
    {
     "name": "stdout",
     "output_type": "stream",
     "text": [
      "Fizz\n",
      "Buzz\n",
      "Fizz\n",
      "Fizz\n",
      "Buzz\n",
      "Fizz\n",
      "FizzBuzz\n",
      "Fizz\n",
      "Buzz\n",
      "Fizz\n",
      "Fizz\n",
      "Buzz\n",
      "Fizz\n",
      "FizzBuzz\n",
      "Fizz\n",
      "Buzz\n",
      "Fizz\n",
      "Fizz\n",
      "Buzz\n",
      "Fizz\n",
      "FizzBuzz\n",
      "Fizz\n",
      "Buzz\n"
     ]
    }
   ],
   "source": [
    "for i in range(1,51):\n",
    "    div3 = i%3==0\n",
    "    div5=i%5==0\n",
    "    if(div3 and div5):\n",
    "        print(\"FizzBuzz\")\n",
    "    elif(div3):\n",
    "        print(\"Fizz\")\n",
    "    elif(div5):\n",
    "        print(\"Buzz\")"
   ]
  },
  {
   "cell_type": "code",
   "execution_count": 80,
   "id": "1d564708-ba02-4949-82c9-d39f43e9b782",
   "metadata": {},
   "outputs": [
    {
     "name": "stdin",
     "output_type": "stream",
     "text": [
      " [2,3,4,5,1,2,4,2]\n"
     ]
    },
    {
     "name": "stdout",
     "output_type": "stream",
     "text": [
      "2\n"
     ]
    }
   ],
   "source": [
    "import statistics\n",
    "inList = input()\n",
    "print(statistics.median(inList))"
   ]
  },
  {
   "cell_type": "code",
   "execution_count": 81,
   "id": "9b4be782-b74c-4f41-a8cb-312e2af8687a",
   "metadata": {},
   "outputs": [
    {
     "name": "stdout",
     "output_type": "stream",
     "text": [
      "Keep entering numbers, enter -1 to stop: \n"
     ]
    },
    {
     "name": "stdin",
     "output_type": "stream",
     "text": [
      " 2\n",
      " 3\n",
      " 10\n",
      " 9\n",
      " -1\n"
     ]
    },
    {
     "name": "stdout",
     "output_type": "stream",
     "text": [
      "6\n"
     ]
    }
   ],
   "source": [
    "var = 0\n",
    "print(\"Keep entering numbers, enter -1 to stop: \")\n",
    "inpList2 = []\n",
    "while(True):\n",
    "    var = int(input())\n",
    "    if(var==-1):\n",
    "        break\n",
    "    inpList2.append(var)\n",
    "print(statistics.mean(inpList2))"
   ]
  },
  {
   "cell_type": "code",
   "execution_count": 86,
   "id": "e777e750-cba2-4958-b46d-3bacc5e2c2fa",
   "metadata": {},
   "outputs": [
    {
     "name": "stdin",
     "output_type": "stream",
     "text": [
      "Enter Numerator:  9\n",
      "Enter Denominator:  0\n"
     ]
    },
    {
     "name": "stdout",
     "output_type": "stream",
     "text": [
      "Oh no, it’s math doom,\n",
      "Divide by zero, and soon—\n",
      "Your code meets its tomb.\n"
     ]
    }
   ],
   "source": [
    "try:\n",
    "    a = float(input(\"Enter Numerator: \"))\n",
    "    b = float(input(\"Enter Denominator: \"))\n",
    "    c = a/b\n",
    "    print(\"Quotient: \", c)\n",
    "except ZeroDivisionError:\n",
    "    print(\"Oh no, it’s math doom,\\nDivide by zero, and soon—\\nYour code meets its tomb.\")\n",
    "    "
   ]
  },
  {
   "cell_type": "markdown",
   "id": "318e3fea-1558-42e3-85d1-e3c7b4dfe0c7",
   "metadata": {},
   "source": [
    "**Part 4**\n",
    "\n",
    "- Bonus Challenge"
   ]
  },
  {
   "cell_type": "code",
   "execution_count": 88,
   "id": "cd8f53ff-a489-4173-91d1-2a705f9649f1",
   "metadata": {},
   "outputs": [
    {
     "name": "stdout",
     "output_type": "stream",
     "text": [
      "[[[0.06316369 0.16322417]\n",
      "  [0.62270379 0.64057065]]\n",
      "\n",
      " [[0.78689589 0.09924296]\n",
      "  [0.07817968 0.12244736]]]\n"
     ]
    }
   ],
   "source": [
    "arr3d = np.random.rand(2,2,2)\n",
    "print(arr3d)"
   ]
  },
  {
   "cell_type": "code",
   "execution_count": 90,
   "id": "ca6a0b2e-34ef-41fd-9108-0c9c7f3bc756",
   "metadata": {},
   "outputs": [
    {
     "name": "stdout",
     "output_type": "stream",
     "text": [
      "[[[0.06316369 0.16322417]\n",
      "  [0.78689589 0.09924296]]\n",
      "\n",
      " [[0.62270379 0.64057065]\n",
      "  [0.07817968 0.12244736]]]\n"
     ]
    }
   ],
   "source": [
    "swapped = np.swapaxes(arr3d,0,1)\n",
    "print(swapped)"
   ]
  },
  {
   "cell_type": "code",
   "execution_count": 92,
   "id": "982c9257-c690-43ab-880a-3d6bc87cc8ea",
   "metadata": {},
   "outputs": [
    {
     "name": "stdout",
     "output_type": "stream",
     "text": [
      "[[[0.102916   0.46602545]\n",
      "  [1.52913047 0.79924646]]\n",
      "\n",
      " [[0.8266482  0.40204424]\n",
      "  [0.98460637 0.28112317]]]\n"
     ]
    }
   ],
   "source": [
    "toAdd = np.random.rand(2,2)\n",
    "print(arr3d+toAdd) #broadcasting"
   ]
  }
 ],
 "metadata": {
  "kernelspec": {
   "display_name": "Python 3 (ipykernel)",
   "language": "python",
   "name": "python3"
  },
  "language_info": {
   "codemirror_mode": {
    "name": "ipython",
    "version": 3
   },
   "file_extension": ".py",
   "mimetype": "text/x-python",
   "name": "python",
   "nbconvert_exporter": "python",
   "pygments_lexer": "ipython3",
   "version": "3.12.5"
  }
 },
 "nbformat": 4,
 "nbformat_minor": 5
}
